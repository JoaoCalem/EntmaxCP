{
 "cells": [
  {
   "cell_type": "code",
   "execution_count": 33,
   "metadata": {},
   "outputs": [
    {
     "name": "stdout",
     "output_type": "stream",
     "text": [
      "./data/predictions/vit_ImageNet_test_entmax_logits_23_proba.pickle\n",
      "Loading predictions.\n"
     ]
    }
   ],
   "source": [
    "from confpred import ConformalPredictor,SparseScore,SoftmaxScore\n",
    "from confpred.classifier import load_model, evaluate\n",
    "from confpred.datasets import load_dataset\n",
    "#from confpred.utils import ROOT_DIR\n",
    "\n",
    "from entmax.losses import SparsemaxLoss, Entmax15Loss\n",
    "import torch\n",
    "import numpy as np\n",
    "import pandas as pd \n",
    "import os.path\n",
    "import pickle\n",
    "loss = 'entmax' #sparsemax, softmax or entmax15\n",
    "model_type='vit'\n",
    "transformation = 'logits'\n",
    "dataset='ImageNet' #CIFAR100 or MNIST\n",
    "seed='23'\n",
    "alpha=0.1\n",
    "#device = 'cuda' if torch.cuda.is_available() else 'cpu'\n",
    "device = 'cpu'\n",
    "directory = '.'\n",
    "fname = f'{directory}/data/predictions/{model_type}_{dataset}_test_{loss}_{transformation}_{seed}_proba.pickle'\n",
    "print(fname)\n",
    "if os.path.isfile(fname):\n",
    "    print('Loading predictions.')\n",
    "    path = f'{directory}/data/predictions/{model_type}_{dataset}_test_{loss}_{transformation}_{seed}_proba.pickle'\n",
    "    with open(path, 'rb') as f:\n",
    "        test_proba = pickle.load(f)\n",
    "    path = f'{directory}/data/predictions/{dataset}_{seed}_test_true.pickle'\n",
    "    with open(path, 'rb') as f:\n",
    "        test_true_enc = pickle.load(f)\n",
    "    path = f'{directory}/data/predictions/{model_type}_{dataset}_cal_{loss}_{transformation}_{seed}_proba.pickle'\n",
    "    with open(path, 'rb') as f:\n",
    "        cal_proba = pickle.load(f)\n",
    "    path = f'{directory}/data/predictions/{dataset}_{seed}_cal_true.pickle'\n",
    "    with open(path, 'rb') as f:\n",
    "        cal_true_enc = pickle.load(f)\n",
    "#Conformal Prediction\n",
    "if loss == 'sparsemax':\n",
    "    cp = ConformalPredictor(SparseScore(2))\n",
    "elif loss == 'softmax':\n",
    "    cp = ConformalPredictor(SoftmaxScore())\n",
    "elif loss== 'entmax':\n",
    "    cp = ConformalPredictor(SparseScore(1.5))\n",
    "\n",
    "cp.calibrate(cal_true_enc, cal_proba, alpha)\n",
    "#print('done cal')\n",
    "#avg_set_size, coverage = cp.evaluate(test_true_enc, test_proba)"
   ]
  },
  {
   "cell_type": "code",
   "execution_count": 34,
   "metadata": {},
   "outputs": [],
   "source": [
    "from entmax.activations import sparsemax, entmax15\n",
    "\n",
    "qhat = cp.q_hat"
   ]
  },
  {
   "cell_type": "code",
   "execution_count": 35,
   "metadata": {},
   "outputs": [],
   "source": [
    "pred_ent = entmax15((2/qhat)*torch.tensor(test_proba), dim=-1).numpy()\n",
    "test_match = pred_ent>0\n",
    "n_test = test_match.shape[0]\n",
    "set_size_2 = test_match.sum(axis = 1).mean()\n",
    "coverage_2 = test_match[test_true_enc.astype(bool)].sum()/n_test"
   ]
  },
  {
   "cell_type": "code",
   "execution_count": 36,
   "metadata": {},
   "outputs": [
    {
     "name": "stdout",
     "output_type": "stream",
     "text": [
      "1.1446 1.6544\n"
     ]
    }
   ],
   "source": [
    "print(set_size_2,set_size)"
   ]
  },
  {
   "cell_type": "code",
   "execution_count": 13,
   "metadata": {},
   "outputs": [],
   "source": [
    "n_test = test_proba.shape[0]\n",
    "#test_match = cp.predict(test_proba)\n",
    "test_scores = cp.score.get_multiple_scores(test_proba)\n",
    "#test_match = test_scores<= self.q_hat\n",
    "#set_size = test_match.sum(axis = 1).mean()\n",
    "#coverage = test_match[test_true.astype(bool)].sum()/n_test"
   ]
  },
  {
   "cell_type": "code",
   "execution_count": null,
   "metadata": {},
   "outputs": [],
   "source": []
  }
 ],
 "metadata": {
  "kernelspec": {
   "display_name": "entmaxcp",
   "language": "python",
   "name": "python3"
  },
  "language_info": {
   "codemirror_mode": {
    "name": "ipython",
    "version": 3
   },
   "file_extension": ".py",
   "mimetype": "text/x-python",
   "name": "python",
   "nbconvert_exporter": "python",
   "pygments_lexer": "ipython3",
   "version": "3.11.6"
  }
 },
 "nbformat": 4,
 "nbformat_minor": 2
}
