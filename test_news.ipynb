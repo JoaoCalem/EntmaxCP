{
 "cells": [
  {
   "cell_type": "code",
   "execution_count": 3,
   "metadata": {},
   "outputs": [],
   "source": [
    "from confpred.cp import run_cp\n",
    "import matplotlib.pyplot as plt\n",
    "import seaborn as sns\n",
    "import pandas as pd\n",
    "import numpy as np\n",
    "\n",
    "#run_cp('NewsGroups','entmax', 0.9, '23', model_type='bert')"
   ]
  },
  {
   "cell_type": "code",
   "execution_count": 4,
   "metadata": {},
   "outputs": [
    {
     "name": "stdout",
     "output_type": "stream",
     "text": [
      "NewsGroups_sparsemax_23_0.01\n",
      "Loading predictions.\n",
      "NewsGroups_sparsemax_23_0.0325\n",
      "Loading predictions.\n",
      "NewsGroups_sparsemax_23_0.05500000000000001\n",
      "Loading predictions.\n",
      "NewsGroups_sparsemax_23_0.0775\n",
      "Loading predictions.\n",
      "NewsGroups_sparsemax_23_0.1\n",
      "Loading predictions.\n",
      "NewsGroups_sparsemax_05_0.01\n"
     ]
    },
    {
     "name": "stderr",
     "output_type": "stream",
     "text": [
      "/Users/margaridacampos/.pyenv/versions/entmaxcp/lib/python3.11/site-packages/transformers/tokenization_utils_base.py:1601: FutureWarning: `clean_up_tokenization_spaces` was not set. It will be set to `True` by default. This behavior will be depracted in transformers v4.45, and will be then set to `False` by default. For more details check this issue: https://github.com/huggingface/transformers/issues/31884\n",
      "  warnings.warn(\n",
      "100%|██████████| 18846/18846 [00:25<00:00, 749.13it/s] \n",
      "Some weights of BertForSequenceClassification were not initialized from the model checkpoint at bert-base-uncased and are newly initialized: ['classifier.bias', 'classifier.weight']\n",
      "You should probably TRAIN this model on a down-stream task to be able to use it for predictions and inference.\n",
      "/Users/margaridacampos/EntmaxCP/confpred/cp.py:40: FutureWarning: You are using `torch.load` with `weights_only=False` (the current default value), which uses the default pickle module implicitly. It is possible to construct malicious pickle data which will execute arbitrary code during unpickling (See https://github.com/pytorch/pytorch/blob/main/SECURITY.md#untrusted-models for more details). In a future release, the default value for `weights_only` will be flipped to `True`. This limits the functions that could be executed during unpickling. Arbitrary objects will no longer be allowed to be loaded via this mode unless they are explicitly allowlisted by the user via `torch.serialization.add_safe_globals`. We recommend you start setting `weights_only=True` for any use case where you don't have full control of the loaded file. Please open an issue on GitHub for any issues related to this experimental feature.\n",
      "  model.load_state_dict(torch.load(f'{ROOT_DIR}/models/{model_type}_{dataset}_{loss}_{seed}_{epochs}_model.pth', map_location=torch.device(device)))\n"
     ]
    },
    {
     "name": "stdout",
     "output_type": "stream",
     "text": [
      "Running predictions.\n"
     ]
    },
    {
     "name": "stderr",
     "output_type": "stream",
     "text": [
      "100%|██████████| 472/472 [02:06<00:00,  3.73it/s]\n",
      "100%|██████████| 375/375 [01:40<00:00,  3.72it/s]\n"
     ]
    },
    {
     "name": "stdout",
     "output_type": "stream",
     "text": [
      "NewsGroups_sparsemax_05_0.0325\n",
      "Loading predictions.\n",
      "NewsGroups_sparsemax_05_0.05500000000000001\n",
      "Loading predictions.\n",
      "NewsGroups_sparsemax_05_0.0775\n",
      "Loading predictions.\n",
      "NewsGroups_sparsemax_05_0.1\n",
      "Loading predictions.\n",
      "NewsGroups_sparsemax_19_0.01\n"
     ]
    },
    {
     "name": "stderr",
     "output_type": "stream",
     "text": [
      "/Users/margaridacampos/.pyenv/versions/entmaxcp/lib/python3.11/site-packages/transformers/tokenization_utils_base.py:1601: FutureWarning: `clean_up_tokenization_spaces` was not set. It will be set to `True` by default. This behavior will be depracted in transformers v4.45, and will be then set to `False` by default. For more details check this issue: https://github.com/huggingface/transformers/issues/31884\n",
      "  warnings.warn(\n",
      "100%|██████████| 18846/18846 [00:24<00:00, 771.57it/s] \n",
      "Some weights of BertForSequenceClassification were not initialized from the model checkpoint at bert-base-uncased and are newly initialized: ['classifier.bias', 'classifier.weight']\n",
      "You should probably TRAIN this model on a down-stream task to be able to use it for predictions and inference.\n",
      "/Users/margaridacampos/EntmaxCP/confpred/cp.py:40: FutureWarning: You are using `torch.load` with `weights_only=False` (the current default value), which uses the default pickle module implicitly. It is possible to construct malicious pickle data which will execute arbitrary code during unpickling (See https://github.com/pytorch/pytorch/blob/main/SECURITY.md#untrusted-models for more details). In a future release, the default value for `weights_only` will be flipped to `True`. This limits the functions that could be executed during unpickling. Arbitrary objects will no longer be allowed to be loaded via this mode unless they are explicitly allowlisted by the user via `torch.serialization.add_safe_globals`. We recommend you start setting `weights_only=True` for any use case where you don't have full control of the loaded file. Please open an issue on GitHub for any issues related to this experimental feature.\n",
      "  model.load_state_dict(torch.load(f'{ROOT_DIR}/models/{model_type}_{dataset}_{loss}_{seed}_{epochs}_model.pth', map_location=torch.device(device)))\n"
     ]
    },
    {
     "name": "stdout",
     "output_type": "stream",
     "text": [
      "Running predictions.\n"
     ]
    },
    {
     "name": "stderr",
     "output_type": "stream",
     "text": [
      "100%|██████████| 472/472 [02:07<00:00,  3.70it/s]\n",
      "100%|██████████| 375/375 [01:40<00:00,  3.75it/s]\n"
     ]
    },
    {
     "name": "stdout",
     "output_type": "stream",
     "text": [
      "NewsGroups_sparsemax_19_0.0325\n",
      "Loading predictions.\n",
      "NewsGroups_sparsemax_19_0.05500000000000001\n",
      "Loading predictions.\n",
      "NewsGroups_sparsemax_19_0.0775\n",
      "Loading predictions.\n",
      "NewsGroups_sparsemax_19_0.1\n",
      "Loading predictions.\n",
      "NewsGroups_sparsemax_95_0.01\n"
     ]
    },
    {
     "name": "stderr",
     "output_type": "stream",
     "text": [
      "/Users/margaridacampos/.pyenv/versions/entmaxcp/lib/python3.11/site-packages/transformers/tokenization_utils_base.py:1601: FutureWarning: `clean_up_tokenization_spaces` was not set. It will be set to `True` by default. This behavior will be depracted in transformers v4.45, and will be then set to `False` by default. For more details check this issue: https://github.com/huggingface/transformers/issues/31884\n",
      "  warnings.warn(\n",
      "100%|██████████| 18846/18846 [00:24<00:00, 772.32it/s]\n",
      "Some weights of BertForSequenceClassification were not initialized from the model checkpoint at bert-base-uncased and are newly initialized: ['classifier.bias', 'classifier.weight']\n",
      "You should probably TRAIN this model on a down-stream task to be able to use it for predictions and inference.\n",
      "/Users/margaridacampos/EntmaxCP/confpred/cp.py:40: FutureWarning: You are using `torch.load` with `weights_only=False` (the current default value), which uses the default pickle module implicitly. It is possible to construct malicious pickle data which will execute arbitrary code during unpickling (See https://github.com/pytorch/pytorch/blob/main/SECURITY.md#untrusted-models for more details). In a future release, the default value for `weights_only` will be flipped to `True`. This limits the functions that could be executed during unpickling. Arbitrary objects will no longer be allowed to be loaded via this mode unless they are explicitly allowlisted by the user via `torch.serialization.add_safe_globals`. We recommend you start setting `weights_only=True` for any use case where you don't have full control of the loaded file. Please open an issue on GitHub for any issues related to this experimental feature.\n",
      "  model.load_state_dict(torch.load(f'{ROOT_DIR}/models/{model_type}_{dataset}_{loss}_{seed}_{epochs}_model.pth', map_location=torch.device(device)))\n"
     ]
    },
    {
     "name": "stdout",
     "output_type": "stream",
     "text": [
      "Running predictions.\n"
     ]
    },
    {
     "name": "stderr",
     "output_type": "stream",
     "text": [
      "100%|██████████| 472/472 [02:07<00:00,  3.69it/s]\n",
      "100%|██████████| 375/375 [01:42<00:00,  3.67it/s]\n"
     ]
    },
    {
     "name": "stdout",
     "output_type": "stream",
     "text": [
      "NewsGroups_sparsemax_95_0.0325\n",
      "Loading predictions.\n",
      "NewsGroups_sparsemax_95_0.05500000000000001\n",
      "Loading predictions.\n",
      "NewsGroups_sparsemax_95_0.0775\n",
      "Loading predictions.\n",
      "NewsGroups_sparsemax_95_0.1\n",
      "Loading predictions.\n",
      "NewsGroups_sparsemax_42_0.01\n"
     ]
    },
    {
     "name": "stderr",
     "output_type": "stream",
     "text": [
      "/Users/margaridacampos/.pyenv/versions/entmaxcp/lib/python3.11/site-packages/transformers/tokenization_utils_base.py:1601: FutureWarning: `clean_up_tokenization_spaces` was not set. It will be set to `True` by default. This behavior will be depracted in transformers v4.45, and will be then set to `False` by default. For more details check this issue: https://github.com/huggingface/transformers/issues/31884\n",
      "  warnings.warn(\n",
      "100%|██████████| 18846/18846 [00:24<00:00, 757.18it/s] \n",
      "Some weights of BertForSequenceClassification were not initialized from the model checkpoint at bert-base-uncased and are newly initialized: ['classifier.bias', 'classifier.weight']\n",
      "You should probably TRAIN this model on a down-stream task to be able to use it for predictions and inference.\n",
      "/Users/margaridacampos/EntmaxCP/confpred/cp.py:40: FutureWarning: You are using `torch.load` with `weights_only=False` (the current default value), which uses the default pickle module implicitly. It is possible to construct malicious pickle data which will execute arbitrary code during unpickling (See https://github.com/pytorch/pytorch/blob/main/SECURITY.md#untrusted-models for more details). In a future release, the default value for `weights_only` will be flipped to `True`. This limits the functions that could be executed during unpickling. Arbitrary objects will no longer be allowed to be loaded via this mode unless they are explicitly allowlisted by the user via `torch.serialization.add_safe_globals`. We recommend you start setting `weights_only=True` for any use case where you don't have full control of the loaded file. Please open an issue on GitHub for any issues related to this experimental feature.\n",
      "  model.load_state_dict(torch.load(f'{ROOT_DIR}/models/{model_type}_{dataset}_{loss}_{seed}_{epochs}_model.pth', map_location=torch.device(device)))\n"
     ]
    },
    {
     "name": "stdout",
     "output_type": "stream",
     "text": [
      "Running predictions.\n"
     ]
    },
    {
     "name": "stderr",
     "output_type": "stream",
     "text": [
      "100%|██████████| 472/472 [02:12<00:00,  3.57it/s]\n",
      "100%|██████████| 375/375 [01:42<00:00,  3.66it/s]\n"
     ]
    },
    {
     "name": "stdout",
     "output_type": "stream",
     "text": [
      "NewsGroups_sparsemax_42_0.0325\n",
      "Loading predictions.\n",
      "NewsGroups_sparsemax_42_0.05500000000000001\n",
      "Loading predictions.\n",
      "NewsGroups_sparsemax_42_0.0775\n",
      "Loading predictions.\n",
      "NewsGroups_sparsemax_42_0.1\n",
      "Loading predictions.\n",
      "NewsGroups_softmax_23_0.01\n"
     ]
    },
    {
     "name": "stderr",
     "output_type": "stream",
     "text": [
      "/Users/margaridacampos/.pyenv/versions/entmaxcp/lib/python3.11/site-packages/transformers/tokenization_utils_base.py:1601: FutureWarning: `clean_up_tokenization_spaces` was not set. It will be set to `True` by default. This behavior will be depracted in transformers v4.45, and will be then set to `False` by default. For more details check this issue: https://github.com/huggingface/transformers/issues/31884\n",
      "  warnings.warn(\n",
      "100%|██████████| 18846/18846 [00:24<00:00, 757.81it/s] \n",
      "Some weights of BertForSequenceClassification were not initialized from the model checkpoint at bert-base-uncased and are newly initialized: ['classifier.bias', 'classifier.weight']\n",
      "You should probably TRAIN this model on a down-stream task to be able to use it for predictions and inference.\n",
      "/Users/margaridacampos/EntmaxCP/confpred/cp.py:40: FutureWarning: You are using `torch.load` with `weights_only=False` (the current default value), which uses the default pickle module implicitly. It is possible to construct malicious pickle data which will execute arbitrary code during unpickling (See https://github.com/pytorch/pytorch/blob/main/SECURITY.md#untrusted-models for more details). In a future release, the default value for `weights_only` will be flipped to `True`. This limits the functions that could be executed during unpickling. Arbitrary objects will no longer be allowed to be loaded via this mode unless they are explicitly allowlisted by the user via `torch.serialization.add_safe_globals`. We recommend you start setting `weights_only=True` for any use case where you don't have full control of the loaded file. Please open an issue on GitHub for any issues related to this experimental feature.\n",
      "  model.load_state_dict(torch.load(f'{ROOT_DIR}/models/{model_type}_{dataset}_{loss}_{seed}_{epochs}_model.pth', map_location=torch.device(device)))\n"
     ]
    },
    {
     "name": "stdout",
     "output_type": "stream",
     "text": [
      "Running predictions.\n"
     ]
    },
    {
     "name": "stderr",
     "output_type": "stream",
     "text": [
      "100%|██████████| 472/472 [02:07<00:00,  3.71it/s]\n",
      "100%|██████████| 375/375 [01:46<00:00,  3.52it/s]\n"
     ]
    },
    {
     "name": "stdout",
     "output_type": "stream",
     "text": [
      "NewsGroups_softmax_23_0.0325\n",
      "Loading predictions.\n",
      "NewsGroups_softmax_23_0.05500000000000001\n",
      "Loading predictions.\n",
      "NewsGroups_softmax_23_0.0775\n",
      "Loading predictions.\n",
      "NewsGroups_softmax_23_0.1\n",
      "Loading predictions.\n",
      "NewsGroups_softmax_05_0.01\n"
     ]
    },
    {
     "name": "stderr",
     "output_type": "stream",
     "text": [
      "/Users/margaridacampos/.pyenv/versions/entmaxcp/lib/python3.11/site-packages/transformers/tokenization_utils_base.py:1601: FutureWarning: `clean_up_tokenization_spaces` was not set. It will be set to `True` by default. This behavior will be depracted in transformers v4.45, and will be then set to `False` by default. For more details check this issue: https://github.com/huggingface/transformers/issues/31884\n",
      "  warnings.warn(\n",
      "100%|██████████| 18846/18846 [00:24<00:00, 766.68it/s]\n",
      "Some weights of BertForSequenceClassification were not initialized from the model checkpoint at bert-base-uncased and are newly initialized: ['classifier.bias', 'classifier.weight']\n",
      "You should probably TRAIN this model on a down-stream task to be able to use it for predictions and inference.\n",
      "/Users/margaridacampos/EntmaxCP/confpred/cp.py:40: FutureWarning: You are using `torch.load` with `weights_only=False` (the current default value), which uses the default pickle module implicitly. It is possible to construct malicious pickle data which will execute arbitrary code during unpickling (See https://github.com/pytorch/pytorch/blob/main/SECURITY.md#untrusted-models for more details). In a future release, the default value for `weights_only` will be flipped to `True`. This limits the functions that could be executed during unpickling. Arbitrary objects will no longer be allowed to be loaded via this mode unless they are explicitly allowlisted by the user via `torch.serialization.add_safe_globals`. We recommend you start setting `weights_only=True` for any use case where you don't have full control of the loaded file. Please open an issue on GitHub for any issues related to this experimental feature.\n",
      "  model.load_state_dict(torch.load(f'{ROOT_DIR}/models/{model_type}_{dataset}_{loss}_{seed}_{epochs}_model.pth', map_location=torch.device(device)))\n"
     ]
    },
    {
     "name": "stdout",
     "output_type": "stream",
     "text": [
      "Running predictions.\n"
     ]
    },
    {
     "name": "stderr",
     "output_type": "stream",
     "text": [
      "100%|██████████| 472/472 [02:05<00:00,  3.75it/s]\n",
      "100%|██████████| 375/375 [01:40<00:00,  3.74it/s]\n"
     ]
    },
    {
     "name": "stdout",
     "output_type": "stream",
     "text": [
      "NewsGroups_softmax_05_0.0325\n",
      "Loading predictions.\n",
      "NewsGroups_softmax_05_0.05500000000000001\n",
      "Loading predictions.\n",
      "NewsGroups_softmax_05_0.0775\n",
      "Loading predictions.\n",
      "NewsGroups_softmax_05_0.1\n",
      "Loading predictions.\n",
      "NewsGroups_softmax_19_0.01\n"
     ]
    },
    {
     "name": "stderr",
     "output_type": "stream",
     "text": [
      "/Users/margaridacampos/.pyenv/versions/entmaxcp/lib/python3.11/site-packages/transformers/tokenization_utils_base.py:1601: FutureWarning: `clean_up_tokenization_spaces` was not set. It will be set to `True` by default. This behavior will be depracted in transformers v4.45, and will be then set to `False` by default. For more details check this issue: https://github.com/huggingface/transformers/issues/31884\n",
      "  warnings.warn(\n",
      "100%|██████████| 18846/18846 [00:24<00:00, 767.07it/s] \n",
      "Some weights of BertForSequenceClassification were not initialized from the model checkpoint at bert-base-uncased and are newly initialized: ['classifier.bias', 'classifier.weight']\n",
      "You should probably TRAIN this model on a down-stream task to be able to use it for predictions and inference.\n",
      "/Users/margaridacampos/EntmaxCP/confpred/cp.py:40: FutureWarning: You are using `torch.load` with `weights_only=False` (the current default value), which uses the default pickle module implicitly. It is possible to construct malicious pickle data which will execute arbitrary code during unpickling (See https://github.com/pytorch/pytorch/blob/main/SECURITY.md#untrusted-models for more details). In a future release, the default value for `weights_only` will be flipped to `True`. This limits the functions that could be executed during unpickling. Arbitrary objects will no longer be allowed to be loaded via this mode unless they are explicitly allowlisted by the user via `torch.serialization.add_safe_globals`. We recommend you start setting `weights_only=True` for any use case where you don't have full control of the loaded file. Please open an issue on GitHub for any issues related to this experimental feature.\n",
      "  model.load_state_dict(torch.load(f'{ROOT_DIR}/models/{model_type}_{dataset}_{loss}_{seed}_{epochs}_model.pth', map_location=torch.device(device)))\n"
     ]
    },
    {
     "name": "stdout",
     "output_type": "stream",
     "text": [
      "Running predictions.\n"
     ]
    },
    {
     "name": "stderr",
     "output_type": "stream",
     "text": [
      "100%|██████████| 472/472 [02:06<00:00,  3.72it/s]\n",
      "100%|██████████| 375/375 [01:40<00:00,  3.71it/s]\n"
     ]
    },
    {
     "name": "stdout",
     "output_type": "stream",
     "text": [
      "NewsGroups_softmax_19_0.0325\n",
      "Loading predictions.\n",
      "NewsGroups_softmax_19_0.05500000000000001\n",
      "Loading predictions.\n",
      "NewsGroups_softmax_19_0.0775\n",
      "Loading predictions.\n",
      "NewsGroups_softmax_19_0.1\n",
      "Loading predictions.\n",
      "NewsGroups_softmax_95_0.01\n"
     ]
    },
    {
     "name": "stderr",
     "output_type": "stream",
     "text": [
      "/Users/margaridacampos/.pyenv/versions/entmaxcp/lib/python3.11/site-packages/transformers/tokenization_utils_base.py:1601: FutureWarning: `clean_up_tokenization_spaces` was not set. It will be set to `True` by default. This behavior will be depracted in transformers v4.45, and will be then set to `False` by default. For more details check this issue: https://github.com/huggingface/transformers/issues/31884\n",
      "  warnings.warn(\n",
      "100%|██████████| 18846/18846 [00:24<00:00, 767.08it/s]\n",
      "Some weights of BertForSequenceClassification were not initialized from the model checkpoint at bert-base-uncased and are newly initialized: ['classifier.bias', 'classifier.weight']\n",
      "You should probably TRAIN this model on a down-stream task to be able to use it for predictions and inference.\n",
      "/Users/margaridacampos/EntmaxCP/confpred/cp.py:40: FutureWarning: You are using `torch.load` with `weights_only=False` (the current default value), which uses the default pickle module implicitly. It is possible to construct malicious pickle data which will execute arbitrary code during unpickling (See https://github.com/pytorch/pytorch/blob/main/SECURITY.md#untrusted-models for more details). In a future release, the default value for `weights_only` will be flipped to `True`. This limits the functions that could be executed during unpickling. Arbitrary objects will no longer be allowed to be loaded via this mode unless they are explicitly allowlisted by the user via `torch.serialization.add_safe_globals`. We recommend you start setting `weights_only=True` for any use case where you don't have full control of the loaded file. Please open an issue on GitHub for any issues related to this experimental feature.\n",
      "  model.load_state_dict(torch.load(f'{ROOT_DIR}/models/{model_type}_{dataset}_{loss}_{seed}_{epochs}_model.pth', map_location=torch.device(device)))\n"
     ]
    },
    {
     "name": "stdout",
     "output_type": "stream",
     "text": [
      "Running predictions.\n"
     ]
    },
    {
     "name": "stderr",
     "output_type": "stream",
     "text": [
      "100%|██████████| 472/472 [02:07<00:00,  3.71it/s]\n",
      "100%|██████████| 375/375 [01:41<00:00,  3.70it/s]\n"
     ]
    },
    {
     "name": "stdout",
     "output_type": "stream",
     "text": [
      "NewsGroups_softmax_95_0.0325\n",
      "Loading predictions.\n",
      "NewsGroups_softmax_95_0.05500000000000001\n",
      "Loading predictions.\n",
      "NewsGroups_softmax_95_0.0775\n",
      "Loading predictions.\n",
      "NewsGroups_softmax_95_0.1\n",
      "Loading predictions.\n",
      "NewsGroups_softmax_42_0.01\n"
     ]
    },
    {
     "name": "stderr",
     "output_type": "stream",
     "text": [
      "/Users/margaridacampos/.pyenv/versions/entmaxcp/lib/python3.11/site-packages/transformers/tokenization_utils_base.py:1601: FutureWarning: `clean_up_tokenization_spaces` was not set. It will be set to `True` by default. This behavior will be depracted in transformers v4.45, and will be then set to `False` by default. For more details check this issue: https://github.com/huggingface/transformers/issues/31884\n",
      "  warnings.warn(\n",
      "100%|██████████| 18846/18846 [00:24<00:00, 766.89it/s] \n",
      "Some weights of BertForSequenceClassification were not initialized from the model checkpoint at bert-base-uncased and are newly initialized: ['classifier.bias', 'classifier.weight']\n",
      "You should probably TRAIN this model on a down-stream task to be able to use it for predictions and inference.\n",
      "/Users/margaridacampos/EntmaxCP/confpred/cp.py:40: FutureWarning: You are using `torch.load` with `weights_only=False` (the current default value), which uses the default pickle module implicitly. It is possible to construct malicious pickle data which will execute arbitrary code during unpickling (See https://github.com/pytorch/pytorch/blob/main/SECURITY.md#untrusted-models for more details). In a future release, the default value for `weights_only` will be flipped to `True`. This limits the functions that could be executed during unpickling. Arbitrary objects will no longer be allowed to be loaded via this mode unless they are explicitly allowlisted by the user via `torch.serialization.add_safe_globals`. We recommend you start setting `weights_only=True` for any use case where you don't have full control of the loaded file. Please open an issue on GitHub for any issues related to this experimental feature.\n",
      "  model.load_state_dict(torch.load(f'{ROOT_DIR}/models/{model_type}_{dataset}_{loss}_{seed}_{epochs}_model.pth', map_location=torch.device(device)))\n"
     ]
    },
    {
     "name": "stdout",
     "output_type": "stream",
     "text": [
      "Running predictions.\n"
     ]
    },
    {
     "name": "stderr",
     "output_type": "stream",
     "text": [
      "100%|██████████| 472/472 [02:06<00:00,  3.72it/s]\n",
      "100%|██████████| 375/375 [01:41<00:00,  3.71it/s]\n"
     ]
    },
    {
     "name": "stdout",
     "output_type": "stream",
     "text": [
      "NewsGroups_softmax_42_0.0325\n",
      "Loading predictions.\n",
      "NewsGroups_softmax_42_0.05500000000000001\n",
      "Loading predictions.\n",
      "NewsGroups_softmax_42_0.0775\n",
      "Loading predictions.\n",
      "NewsGroups_softmax_42_0.1\n",
      "Loading predictions.\n",
      "NewsGroups_entmax_23_0.01\n"
     ]
    },
    {
     "name": "stderr",
     "output_type": "stream",
     "text": [
      "/Users/margaridacampos/.pyenv/versions/entmaxcp/lib/python3.11/site-packages/transformers/tokenization_utils_base.py:1601: FutureWarning: `clean_up_tokenization_spaces` was not set. It will be set to `True` by default. This behavior will be depracted in transformers v4.45, and will be then set to `False` by default. For more details check this issue: https://github.com/huggingface/transformers/issues/31884\n",
      "  warnings.warn(\n",
      "100%|██████████| 18846/18846 [00:24<00:00, 769.08it/s] \n",
      "Some weights of BertForSequenceClassification were not initialized from the model checkpoint at bert-base-uncased and are newly initialized: ['classifier.bias', 'classifier.weight']\n",
      "You should probably TRAIN this model on a down-stream task to be able to use it for predictions and inference.\n",
      "/Users/margaridacampos/EntmaxCP/confpred/cp.py:40: FutureWarning: You are using `torch.load` with `weights_only=False` (the current default value), which uses the default pickle module implicitly. It is possible to construct malicious pickle data which will execute arbitrary code during unpickling (See https://github.com/pytorch/pytorch/blob/main/SECURITY.md#untrusted-models for more details). In a future release, the default value for `weights_only` will be flipped to `True`. This limits the functions that could be executed during unpickling. Arbitrary objects will no longer be allowed to be loaded via this mode unless they are explicitly allowlisted by the user via `torch.serialization.add_safe_globals`. We recommend you start setting `weights_only=True` for any use case where you don't have full control of the loaded file. Please open an issue on GitHub for any issues related to this experimental feature.\n",
      "  model.load_state_dict(torch.load(f'{ROOT_DIR}/models/{model_type}_{dataset}_{loss}_{seed}_{epochs}_model.pth', map_location=torch.device(device)))\n"
     ]
    },
    {
     "name": "stdout",
     "output_type": "stream",
     "text": [
      "Running predictions.\n"
     ]
    },
    {
     "name": "stderr",
     "output_type": "stream",
     "text": [
      "100%|██████████| 472/472 [02:08<00:00,  3.68it/s]\n",
      "100%|██████████| 375/375 [01:42<00:00,  3.66it/s]\n"
     ]
    },
    {
     "name": "stdout",
     "output_type": "stream",
     "text": [
      "NewsGroups_entmax_23_0.0325\n",
      "Loading predictions.\n",
      "NewsGroups_entmax_23_0.05500000000000001\n",
      "Loading predictions.\n",
      "NewsGroups_entmax_23_0.0775\n",
      "Loading predictions.\n",
      "NewsGroups_entmax_23_0.1\n",
      "Loading predictions.\n",
      "NewsGroups_entmax_05_0.01\n"
     ]
    },
    {
     "name": "stderr",
     "output_type": "stream",
     "text": [
      "/Users/margaridacampos/.pyenv/versions/entmaxcp/lib/python3.11/site-packages/transformers/tokenization_utils_base.py:1601: FutureWarning: `clean_up_tokenization_spaces` was not set. It will be set to `True` by default. This behavior will be depracted in transformers v4.45, and will be then set to `False` by default. For more details check this issue: https://github.com/huggingface/transformers/issues/31884\n",
      "  warnings.warn(\n",
      "100%|██████████| 18846/18846 [00:24<00:00, 766.93it/s]\n",
      "Some weights of BertForSequenceClassification were not initialized from the model checkpoint at bert-base-uncased and are newly initialized: ['classifier.bias', 'classifier.weight']\n",
      "You should probably TRAIN this model on a down-stream task to be able to use it for predictions and inference.\n",
      "/Users/margaridacampos/EntmaxCP/confpred/cp.py:40: FutureWarning: You are using `torch.load` with `weights_only=False` (the current default value), which uses the default pickle module implicitly. It is possible to construct malicious pickle data which will execute arbitrary code during unpickling (See https://github.com/pytorch/pytorch/blob/main/SECURITY.md#untrusted-models for more details). In a future release, the default value for `weights_only` will be flipped to `True`. This limits the functions that could be executed during unpickling. Arbitrary objects will no longer be allowed to be loaded via this mode unless they are explicitly allowlisted by the user via `torch.serialization.add_safe_globals`. We recommend you start setting `weights_only=True` for any use case where you don't have full control of the loaded file. Please open an issue on GitHub for any issues related to this experimental feature.\n",
      "  model.load_state_dict(torch.load(f'{ROOT_DIR}/models/{model_type}_{dataset}_{loss}_{seed}_{epochs}_model.pth', map_location=torch.device(device)))\n"
     ]
    },
    {
     "name": "stdout",
     "output_type": "stream",
     "text": [
      "Running predictions.\n"
     ]
    },
    {
     "name": "stderr",
     "output_type": "stream",
     "text": [
      "100%|██████████| 472/472 [02:06<00:00,  3.72it/s]\n",
      "100%|██████████| 375/375 [01:41<00:00,  3.70it/s]\n"
     ]
    },
    {
     "name": "stdout",
     "output_type": "stream",
     "text": [
      "NewsGroups_entmax_05_0.0325\n",
      "Loading predictions.\n",
      "NewsGroups_entmax_05_0.05500000000000001\n",
      "Loading predictions.\n",
      "NewsGroups_entmax_05_0.0775\n",
      "Loading predictions.\n",
      "NewsGroups_entmax_05_0.1\n",
      "Loading predictions.\n",
      "NewsGroups_entmax_19_0.01\n"
     ]
    },
    {
     "name": "stderr",
     "output_type": "stream",
     "text": [
      "/Users/margaridacampos/.pyenv/versions/entmaxcp/lib/python3.11/site-packages/transformers/tokenization_utils_base.py:1601: FutureWarning: `clean_up_tokenization_spaces` was not set. It will be set to `True` by default. This behavior will be depracted in transformers v4.45, and will be then set to `False` by default. For more details check this issue: https://github.com/huggingface/transformers/issues/31884\n",
      "  warnings.warn(\n",
      "100%|██████████| 18846/18846 [00:24<00:00, 763.56it/s]\n",
      "Some weights of BertForSequenceClassification were not initialized from the model checkpoint at bert-base-uncased and are newly initialized: ['classifier.bias', 'classifier.weight']\n",
      "You should probably TRAIN this model on a down-stream task to be able to use it for predictions and inference.\n",
      "/Users/margaridacampos/EntmaxCP/confpred/cp.py:40: FutureWarning: You are using `torch.load` with `weights_only=False` (the current default value), which uses the default pickle module implicitly. It is possible to construct malicious pickle data which will execute arbitrary code during unpickling (See https://github.com/pytorch/pytorch/blob/main/SECURITY.md#untrusted-models for more details). In a future release, the default value for `weights_only` will be flipped to `True`. This limits the functions that could be executed during unpickling. Arbitrary objects will no longer be allowed to be loaded via this mode unless they are explicitly allowlisted by the user via `torch.serialization.add_safe_globals`. We recommend you start setting `weights_only=True` for any use case where you don't have full control of the loaded file. Please open an issue on GitHub for any issues related to this experimental feature.\n",
      "  model.load_state_dict(torch.load(f'{ROOT_DIR}/models/{model_type}_{dataset}_{loss}_{seed}_{epochs}_model.pth', map_location=torch.device(device)))\n"
     ]
    },
    {
     "name": "stdout",
     "output_type": "stream",
     "text": [
      "Running predictions.\n"
     ]
    },
    {
     "name": "stderr",
     "output_type": "stream",
     "text": [
      "100%|██████████| 472/472 [02:07<00:00,  3.70it/s]\n",
      "100%|██████████| 375/375 [01:41<00:00,  3.69it/s]\n"
     ]
    },
    {
     "name": "stdout",
     "output_type": "stream",
     "text": [
      "NewsGroups_entmax_19_0.0325\n",
      "Loading predictions.\n",
      "NewsGroups_entmax_19_0.05500000000000001\n",
      "Loading predictions.\n",
      "NewsGroups_entmax_19_0.0775\n",
      "Loading predictions.\n",
      "NewsGroups_entmax_19_0.1\n",
      "Loading predictions.\n",
      "NewsGroups_entmax_95_0.01\n"
     ]
    },
    {
     "name": "stderr",
     "output_type": "stream",
     "text": [
      "/Users/margaridacampos/.pyenv/versions/entmaxcp/lib/python3.11/site-packages/transformers/tokenization_utils_base.py:1601: FutureWarning: `clean_up_tokenization_spaces` was not set. It will be set to `True` by default. This behavior will be depracted in transformers v4.45, and will be then set to `False` by default. For more details check this issue: https://github.com/huggingface/transformers/issues/31884\n",
      "  warnings.warn(\n",
      "100%|██████████| 18846/18846 [00:24<00:00, 769.48it/s]\n",
      "Some weights of BertForSequenceClassification were not initialized from the model checkpoint at bert-base-uncased and are newly initialized: ['classifier.bias', 'classifier.weight']\n",
      "You should probably TRAIN this model on a down-stream task to be able to use it for predictions and inference.\n",
      "/Users/margaridacampos/EntmaxCP/confpred/cp.py:40: FutureWarning: You are using `torch.load` with `weights_only=False` (the current default value), which uses the default pickle module implicitly. It is possible to construct malicious pickle data which will execute arbitrary code during unpickling (See https://github.com/pytorch/pytorch/blob/main/SECURITY.md#untrusted-models for more details). In a future release, the default value for `weights_only` will be flipped to `True`. This limits the functions that could be executed during unpickling. Arbitrary objects will no longer be allowed to be loaded via this mode unless they are explicitly allowlisted by the user via `torch.serialization.add_safe_globals`. We recommend you start setting `weights_only=True` for any use case where you don't have full control of the loaded file. Please open an issue on GitHub for any issues related to this experimental feature.\n",
      "  model.load_state_dict(torch.load(f'{ROOT_DIR}/models/{model_type}_{dataset}_{loss}_{seed}_{epochs}_model.pth', map_location=torch.device(device)))\n"
     ]
    },
    {
     "name": "stdout",
     "output_type": "stream",
     "text": [
      "Running predictions.\n"
     ]
    },
    {
     "name": "stderr",
     "output_type": "stream",
     "text": [
      "100%|██████████| 472/472 [02:09<00:00,  3.64it/s]\n",
      "100%|██████████| 375/375 [01:41<00:00,  3.70it/s]\n"
     ]
    },
    {
     "name": "stdout",
     "output_type": "stream",
     "text": [
      "NewsGroups_entmax_95_0.0325\n",
      "Loading predictions.\n",
      "NewsGroups_entmax_95_0.05500000000000001\n",
      "Loading predictions.\n",
      "NewsGroups_entmax_95_0.0775\n",
      "Loading predictions.\n",
      "NewsGroups_entmax_95_0.1\n",
      "Loading predictions.\n",
      "NewsGroups_entmax_42_0.01\n"
     ]
    },
    {
     "name": "stderr",
     "output_type": "stream",
     "text": [
      "/Users/margaridacampos/.pyenv/versions/entmaxcp/lib/python3.11/site-packages/transformers/tokenization_utils_base.py:1601: FutureWarning: `clean_up_tokenization_spaces` was not set. It will be set to `True` by default. This behavior will be depracted in transformers v4.45, and will be then set to `False` by default. For more details check this issue: https://github.com/huggingface/transformers/issues/31884\n",
      "  warnings.warn(\n",
      "100%|██████████| 18846/18846 [00:24<00:00, 769.15it/s]\n",
      "Some weights of BertForSequenceClassification were not initialized from the model checkpoint at bert-base-uncased and are newly initialized: ['classifier.bias', 'classifier.weight']\n",
      "You should probably TRAIN this model on a down-stream task to be able to use it for predictions and inference.\n",
      "/Users/margaridacampos/EntmaxCP/confpred/cp.py:40: FutureWarning: You are using `torch.load` with `weights_only=False` (the current default value), which uses the default pickle module implicitly. It is possible to construct malicious pickle data which will execute arbitrary code during unpickling (See https://github.com/pytorch/pytorch/blob/main/SECURITY.md#untrusted-models for more details). In a future release, the default value for `weights_only` will be flipped to `True`. This limits the functions that could be executed during unpickling. Arbitrary objects will no longer be allowed to be loaded via this mode unless they are explicitly allowlisted by the user via `torch.serialization.add_safe_globals`. We recommend you start setting `weights_only=True` for any use case where you don't have full control of the loaded file. Please open an issue on GitHub for any issues related to this experimental feature.\n",
      "  model.load_state_dict(torch.load(f'{ROOT_DIR}/models/{model_type}_{dataset}_{loss}_{seed}_{epochs}_model.pth', map_location=torch.device(device)))\n"
     ]
    },
    {
     "name": "stdout",
     "output_type": "stream",
     "text": [
      "Running predictions.\n"
     ]
    },
    {
     "name": "stderr",
     "output_type": "stream",
     "text": [
      "100%|██████████| 472/472 [02:07<00:00,  3.69it/s]\n",
      "100%|██████████| 375/375 [01:41<00:00,  3.70it/s]"
     ]
    },
    {
     "name": "stdout",
     "output_type": "stream",
     "text": [
      "NewsGroups_entmax_42_0.0325\n",
      "Loading predictions.\n",
      "NewsGroups_entmax_42_0.05500000000000001\n",
      "Loading predictions.\n",
      "NewsGroups_entmax_42_0.0775\n",
      "Loading predictions.\n",
      "NewsGroups_entmax_42_0.1\n",
      "Loading predictions.\n"
     ]
    },
    {
     "name": "stderr",
     "output_type": "stream",
     "text": [
      "\n"
     ]
    }
   ],
   "source": [
    "summary_results = pd.DataFrame(columns=['dataset','score','alpha','avg_size','coverage'])\n",
    "for dataset in ['NewsGroups']:\n",
    "    for loss in ['sparsemax','softmax','entmax']:\n",
    "        for seed in ['23','05','19','95','42']:\n",
    "            for alpha in np.linspace(0.01,0.1,5):\n",
    "                print(dataset+'_'+loss+'_'+seed+'_'+str(alpha))\n",
    "                avg_set_size, coverage = run_cp(dataset,loss,alpha,seed,model_type='bert')\n",
    "                summary_results.loc[len(summary_results)] = dataset, loss,alpha, avg_set_size, coverage\n"
   ]
  },
  {
   "cell_type": "code",
   "execution_count": 11,
   "metadata": {},
   "outputs": [
    {
     "name": "stderr",
     "output_type": "stream",
     "text": [
      "/var/folders/q2/bjm3n1qd6jq1npksrk9n26nw0000gn/T/ipykernel_18659/2226018543.py:10: UserWarning: No artists with labels found to put in legend.  Note that artists whose label start with an underscore are ignored when legend() is called with no argument.\n",
      "  plt.legend(title='')\n"
     ]
    },
    {
     "data": {
      "image/png": "[encoded data removed]",
      "text/plain": [
       "<Figure size 1200x300 with 3 Axes>"
      ]
     },
     "metadata": {},
     "output_type": "display_data"
    }
   ],
   "source": [
    "fig, axs = plt.subplots(1,3, figsize=(12,3))\n",
    "for index, var in enumerate(summary_results['dataset'].unique()):\n",
    "    df = summary_results[summary_results['dataset']==var]\n",
    "    if index == len(summary_results['dataset'].unique())-1:\n",
    "        sns.lineplot(df, x = 'alpha', hue = 'score',y='avg_size', ax = axs[index])\n",
    "    else: \n",
    "        sns.lineplot(df, x = 'alpha', hue = 'score',y='avg_size', ax = axs[index], legend = False)    \n",
    "    axs[index].set_title(var)\n",
    "    axs[index].set_ylim\n",
    "    plt.legend(title='')"
   ]
  },
  {
   "cell_type": "code",
   "execution_count": 9,
   "metadata": {},
   "outputs": [],
   "source": [
    "from sklearn.metrics import accuracy_score\n",
    "import pickle\n",
    "model_type = 'bert'\n",
    "dataset_list = ['NewsGroups']#['CIFAR10','CIFAR100']\n",
    "loss_list = ['softmax','sparsemax','entmax']\n",
    "seed_list = ['23','05','19','95','42']\n",
    "transformation = 'logits'\n",
    "dataset = dataset_list[0]\n",
    "loss = loss_list[0]\n",
    "acc_df = pd.DataFrame({'dataset':dataset_list}).merge(pd.DataFrame({'loss':loss_list}), how = 'cross').merge(pd.DataFrame({'seed':seed_list}), how = 'cross')\n",
    "acc_df['cal_size'] = np.nan\n",
    "acc_df['cal_acc'] = np.nan\n",
    "acc_df['test_size'] = np.nan\n",
    "acc_df['test_size'] = np.nan\n",
    "\n",
    "for index, row in acc_df.iterrows():\n",
    "    dataset = row['dataset']\n",
    "    loss = row['loss']\n",
    "    seed = row['seed']\n",
    "    path = f'./data/predictions/{model_type}_{dataset}_test_{loss}_{transformation}_{seed}_proba.pickle'\n",
    "    with open(path, 'rb') as f:\n",
    "        test_proba = pickle.load(f)\n",
    "    path = f'./data/predictions/{dataset}_{seed}_test_true.pickle'\n",
    "    with open(path, 'rb') as f:\n",
    "        test_true_enc = pickle.load(f)\n",
    "    path = f'./data/predictions/{model_type}_{dataset}_cal_{loss}_{transformation}_{seed}_proba.pickle'\n",
    "    with open(path, 'rb') as f:\n",
    "        cal_proba = pickle.load(f)\n",
    "    path = f'./data/predictions/{dataset}_{seed}_cal_true.pickle'\n",
    "    with open(path, 'rb') as f:\n",
    "        cal_true_enc = pickle.load(f)\n",
    "    acc_df.at[index,'cal_acc'] = accuracy_score(cal_true_enc.argmax(axis = 1),cal_proba.argmax(axis = 1))\n",
    "    acc_df.at[index,'test_acc'] = accuracy_score(test_true_enc.argmax(axis = 1),test_proba.argmax(axis = 1))\n",
    "    acc_df.at[index,'cal_size'] = cal_true_enc.shape[0]\n",
    "    acc_df.at[index,'test_size'] = test_true_enc.shape[0]"
   ]
  },
  {
   "cell_type": "code",
   "execution_count": 10,
   "metadata": {},
   "outputs": [
    {
     "data": {
      "text/html": [
       "<div>\n",
       "<style scoped>\n",
       "    .dataframe tbody tr th:only-of-type {\n",
       "        vertical-align: middle;\n",
       "    }\n",
       "\n",
       "    .dataframe tbody tr th {\n",
       "        vertical-align: top;\n",
       "    }\n",
       "\n",
       "    .dataframe thead th {\n",
       "        text-align: right;\n",
       "    }\n",
       "</style>\n",
       "<table border=\"1\" class=\"dataframe\">\n",
       "  <thead>\n",
       "    <tr style=\"text-align: right;\">\n",
       "      <th></th>\n",
       "      <th>dataset</th>\n",
       "      <th>loss</th>\n",
       "      <th>seed</th>\n",
       "      <th>cal_size</th>\n",
       "      <th>cal_acc</th>\n",
       "      <th>test_size</th>\n",
       "      <th>test_acc</th>\n",
       "    </tr>\n",
       "  </thead>\n",
       "  <tbody>\n",
       "    <tr>\n",
       "      <th>0</th>\n",
       "      <td>NewsGroups</td>\n",
       "      <td>softmax</td>\n",
       "      <td>23</td>\n",
       "      <td>3000.0</td>\n",
       "      <td>0.054000</td>\n",
       "      <td>3769.0</td>\n",
       "      <td>0.050146</td>\n",
       "    </tr>\n",
       "    <tr>\n",
       "      <th>1</th>\n",
       "      <td>NewsGroups</td>\n",
       "      <td>softmax</td>\n",
       "      <td>05</td>\n",
       "      <td>3000.0</td>\n",
       "      <td>0.680000</td>\n",
       "      <td>3769.0</td>\n",
       "      <td>0.686920</td>\n",
       "    </tr>\n",
       "    <tr>\n",
       "      <th>2</th>\n",
       "      <td>NewsGroups</td>\n",
       "      <td>softmax</td>\n",
       "      <td>19</td>\n",
       "      <td>3000.0</td>\n",
       "      <td>0.055667</td>\n",
       "      <td>3769.0</td>\n",
       "      <td>0.052534</td>\n",
       "    </tr>\n",
       "    <tr>\n",
       "      <th>3</th>\n",
       "      <td>NewsGroups</td>\n",
       "      <td>softmax</td>\n",
       "      <td>95</td>\n",
       "      <td>3000.0</td>\n",
       "      <td>0.681667</td>\n",
       "      <td>3769.0</td>\n",
       "      <td>0.680552</td>\n",
       "    </tr>\n",
       "    <tr>\n",
       "      <th>4</th>\n",
       "      <td>NewsGroups</td>\n",
       "      <td>softmax</td>\n",
       "      <td>42</td>\n",
       "      <td>3000.0</td>\n",
       "      <td>0.054000</td>\n",
       "      <td>3769.0</td>\n",
       "      <td>0.050146</td>\n",
       "    </tr>\n",
       "    <tr>\n",
       "      <th>5</th>\n",
       "      <td>NewsGroups</td>\n",
       "      <td>sparsemax</td>\n",
       "      <td>23</td>\n",
       "      <td>3000.0</td>\n",
       "      <td>0.709667</td>\n",
       "      <td>3769.0</td>\n",
       "      <td>0.703900</td>\n",
       "    </tr>\n",
       "    <tr>\n",
       "      <th>6</th>\n",
       "      <td>NewsGroups</td>\n",
       "      <td>sparsemax</td>\n",
       "      <td>05</td>\n",
       "      <td>3000.0</td>\n",
       "      <td>0.719000</td>\n",
       "      <td>3769.0</td>\n",
       "      <td>0.708145</td>\n",
       "    </tr>\n",
       "    <tr>\n",
       "      <th>7</th>\n",
       "      <td>NewsGroups</td>\n",
       "      <td>sparsemax</td>\n",
       "      <td>19</td>\n",
       "      <td>3000.0</td>\n",
       "      <td>0.708667</td>\n",
       "      <td>3769.0</td>\n",
       "      <td>0.711329</td>\n",
       "    </tr>\n",
       "    <tr>\n",
       "      <th>8</th>\n",
       "      <td>NewsGroups</td>\n",
       "      <td>sparsemax</td>\n",
       "      <td>95</td>\n",
       "      <td>3000.0</td>\n",
       "      <td>0.712000</td>\n",
       "      <td>3769.0</td>\n",
       "      <td>0.705757</td>\n",
       "    </tr>\n",
       "    <tr>\n",
       "      <th>9</th>\n",
       "      <td>NewsGroups</td>\n",
       "      <td>sparsemax</td>\n",
       "      <td>42</td>\n",
       "      <td>3000.0</td>\n",
       "      <td>0.701667</td>\n",
       "      <td>3769.0</td>\n",
       "      <td>0.706553</td>\n",
       "    </tr>\n",
       "    <tr>\n",
       "      <th>10</th>\n",
       "      <td>NewsGroups</td>\n",
       "      <td>entmax</td>\n",
       "      <td>23</td>\n",
       "      <td>3000.0</td>\n",
       "      <td>0.707333</td>\n",
       "      <td>3769.0</td>\n",
       "      <td>0.716105</td>\n",
       "    </tr>\n",
       "    <tr>\n",
       "      <th>11</th>\n",
       "      <td>NewsGroups</td>\n",
       "      <td>entmax</td>\n",
       "      <td>05</td>\n",
       "      <td>3000.0</td>\n",
       "      <td>0.047000</td>\n",
       "      <td>3769.0</td>\n",
       "      <td>0.052534</td>\n",
       "    </tr>\n",
       "    <tr>\n",
       "      <th>12</th>\n",
       "      <td>NewsGroups</td>\n",
       "      <td>entmax</td>\n",
       "      <td>19</td>\n",
       "      <td>3000.0</td>\n",
       "      <td>0.713000</td>\n",
       "      <td>3769.0</td>\n",
       "      <td>0.711860</td>\n",
       "    </tr>\n",
       "    <tr>\n",
       "      <th>13</th>\n",
       "      <td>NewsGroups</td>\n",
       "      <td>entmax</td>\n",
       "      <td>95</td>\n",
       "      <td>3000.0</td>\n",
       "      <td>0.709667</td>\n",
       "      <td>3769.0</td>\n",
       "      <td>0.696206</td>\n",
       "    </tr>\n",
       "    <tr>\n",
       "      <th>14</th>\n",
       "      <td>NewsGroups</td>\n",
       "      <td>entmax</td>\n",
       "      <td>42</td>\n",
       "      <td>3000.0</td>\n",
       "      <td>0.053000</td>\n",
       "      <td>3769.0</td>\n",
       "      <td>0.055187</td>\n",
       "    </tr>\n",
       "  </tbody>\n",
       "</table>\n",
       "</div>"
      ],
      "text/plain": [
       "       dataset       loss seed  cal_size   cal_acc  test_size  test_acc\n",
       "0   NewsGroups    softmax   23    3000.0  0.054000     3769.0  0.050146\n",
       "1   NewsGroups    softmax   05    3000.0  0.680000     3769.0  0.686920\n",
       "2   NewsGroups    softmax   19    3000.0  0.055667     3769.0  0.052534\n",
       "3   NewsGroups    softmax   95    3000.0  0.681667     3769.0  0.680552\n",
       "4   NewsGroups    softmax   42    3000.0  0.054000     3769.0  0.050146\n",
       "5   NewsGroups  sparsemax   23    3000.0  0.709667     3769.0  0.703900\n",
       "6   NewsGroups  sparsemax   05    3000.0  0.719000     3769.0  0.708145\n",
       "7   NewsGroups  sparsemax   19    3000.0  0.708667     3769.0  0.711329\n",
       "8   NewsGroups  sparsemax   95    3000.0  0.712000     3769.0  0.705757\n",
       "9   NewsGroups  sparsemax   42    3000.0  0.701667     3769.0  0.706553\n",
       "10  NewsGroups     entmax   23    3000.0  0.707333     3769.0  0.716105\n",
       "11  NewsGroups     entmax   05    3000.0  0.047000     3769.0  0.052534\n",
       "12  NewsGroups     entmax   19    3000.0  0.713000     3769.0  0.711860\n",
       "13  NewsGroups     entmax   95    3000.0  0.709667     3769.0  0.696206\n",
       "14  NewsGroups     entmax   42    3000.0  0.053000     3769.0  0.055187"
      ]
     },
     "execution_count": 10,
     "metadata": {},
     "output_type": "execute_result"
    }
   ],
   "source": [
    "acc_df"
   ]
  },
  {
   "cell_type": "code",
   "execution_count": null,
   "metadata": {},
   "outputs": [],
   "source": []
  },
  {
   "cell_type": "code",
   "execution_count": null,
   "metadata": {},
   "outputs": [],
   "source": []
  }
 ],
 "metadata": {
  "kernelspec": {
   "display_name": "entmaxcp",
   "language": "python",
   "name": "python3"
  },
  "language_info": {
   "codemirror_mode": {
    "name": "ipython",
    "version": 3
   },
   "file_extension": ".py",
   "mimetype": "text/x-python",
   "name": "python",
   "nbconvert_exporter": "python",
   "pygments_lexer": "ipython3",
   "version": "3.11.6"
  }
 },
 "nbformat": 4,
 "nbformat_minor": 2
}
